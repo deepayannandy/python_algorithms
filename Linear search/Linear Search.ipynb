{
 "cells": [
  {
   "cell_type": "markdown",
   "metadata": {},
   "source": [
    "# Linear Search Algorithm using Python"
   ]
  },
  {
   "cell_type": "code",
   "execution_count": 18,
   "metadata": {},
   "outputs": [],
   "source": [
    "def linearSearch(list1,key):\n",
    "    for i in range(0,len(list1)):\n",
    "        if list1[i]== key:\n",
    "            return i"
   ]
  },
  {
   "cell_type": "code",
   "execution_count": 20,
   "metadata": {},
   "outputs": [
    {
     "name": "stdout",
     "output_type": "stream",
     "text": [
      "44 Found at index 2\n"
     ]
    }
   ],
   "source": [
    "list1= [10,30,44,98,99,101]\n",
    "key=44\n",
    "index=linearSearch(list1, key)\n",
    "if index==None:\n",
    "    print(\"Not found!\")\n",
    "else:\n",
    "    print(key,\"Found at index\",index)"
   ]
  }
 ],
 "metadata": {
  "kernelspec": {
   "display_name": "Python 3",
   "language": "python",
   "name": "python3"
  },
  "language_info": {
   "codemirror_mode": {
    "name": "ipython",
    "version": 3
   },
   "file_extension": ".py",
   "mimetype": "text/x-python",
   "name": "python",
   "nbconvert_exporter": "python",
   "pygments_lexer": "ipython3",
   "version": "3.6.9"
  }
 },
 "nbformat": 4,
 "nbformat_minor": 4
}
